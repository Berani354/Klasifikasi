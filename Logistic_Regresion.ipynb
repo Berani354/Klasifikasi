{
 "cells": [
  {
   "cell_type": "code",
   "execution_count": 4,
   "id": "63c9f6bc",
   "metadata": {},
   "outputs": [
    {
     "data": {
      "text/plain": [
       "['tfidf_vectorizer.pkl']"
      ]
     },
     "execution_count": 4,
     "metadata": {},
     "output_type": "execute_result"
    }
   ],
   "source": [
    "import joblib\n",
    "\n",
    "# Simpan model\n",
    "joblib.dump(model, 'logistic_model.pkl')\n",
    "\n",
    "# Simpan TF-IDF vectorizer\n",
    "joblib.dump(vectorizer, 'tfidf_vectorizer.pkl')\n"
   ]
  },
  {
   "cell_type": "code",
   "execution_count": 3,
   "id": "ba598f98",
   "metadata": {},
   "outputs": [
    {
     "name": "stdout",
     "output_type": "stream",
     "text": [
      "                       category  rating label  \\\n",
      "0                Pet_Supplies_5     5.0    CG   \n",
      "1                Kindle_Store_5     5.0    CG   \n",
      "2                Pet_Supplies_5     5.0    CG   \n",
      "3         Sports_and_Outdoors_5     5.0    CG   \n",
      "4  Tools_and_Home_Improvement_5     5.0    CG   \n",
      "\n",
      "                                                text  \n",
      "0  I've replaced all my other fountain filters an...  \n",
      "1  LT&T did not disappoint.  We have the characte...  \n",
      "2  Both of my dogs (full grown) love the taste. I...  \n",
      "3  First time user, glue last time. The only reas...  \n",
      "4  Klein is second to none.  The quality and qual...  \n",
      "Classification Report:\n",
      "               precision    recall  f1-score   support\n",
      "\n",
      "           0       0.81      0.87      0.84       200\n",
      "           1       0.86      0.79      0.82       200\n",
      "\n",
      "    accuracy                           0.83       400\n",
      "   macro avg       0.83      0.83      0.83       400\n",
      "weighted avg       0.83      0.83      0.83       400\n",
      "\n",
      "Confusion Matrix:\n",
      " [[174  26]\n",
      " [ 42 158]]\n"
     ]
    },
    {
     "data": {
      "image/png": "[encoded data removed]",
      "text/plain": [
       "<Figure size 600x400 with 2 Axes>"
      ]
     },
     "metadata": {},
     "output_type": "display_data"
    }
   ],
   "source": [
    "import pandas as pd\n",
    "import numpy as np\n",
    "import matplotlib.pyplot as plt\n",
    "import seaborn as sns\n",
    "import string\n",
    "import re\n",
    "\n",
    "from sklearn.model_selection import train_test_split\n",
    "from sklearn.feature_extraction.text import TfidfVectorizer\n",
    "from sklearn.linear_model import LogisticRegression\n",
    "from sklearn.metrics import classification_report, confusion_matrix\n",
    "\n",
    "\n",
    "df = pd.read_excel('review_2000_dataset.xlsx')\n",
    "print(df.head())\n",
    "\n",
    "def clean_text(text):\n",
    "    text = str(text).lower()                                  # ubah ke huruf kecil\n",
    "    text = re.sub(r'<.*?>', '', text)                         # hapus HTML tags\n",
    "    text = re.sub(r'[^\\w\\s]', '', text)                       # hapus tanda baca\n",
    "    text = re.sub(r'\\d+', '', text)                           # hapus angka\n",
    "    text = re.sub(r'\\s+', ' ', text).strip()                  # hapus spasi ekstra\n",
    "    return text\n",
    "\n",
    "df['clean_text'] = df['text'].apply(clean_text)\n",
    "\n",
    "df['label'] = df['label'].map({'CG': 1, 'OR': 0})  # 1 = palsu, 0 = asli\n",
    "\n",
    "X = df['clean_text']\n",
    "y = df['label']\n",
    "\n",
    "X_train, X_test, y_train, y_test = train_test_split(X, y, test_size=0.2, random_state=42, stratify=y)\n",
    "\n",
    "vectorizer = TfidfVectorizer(max_features=5000)\n",
    "X_train_tfidf = vectorizer.fit_transform(X_train)\n",
    "X_test_tfidf = vectorizer.transform(X_test)\n",
    "\n",
    "vectorizer = TfidfVectorizer(max_features=5000)\n",
    "X_train_tfidf = vectorizer.fit_transform(X_train)\n",
    "X_test_tfidf = vectorizer.transform(X_test)\n",
    "\n",
    "model = LogisticRegression()\n",
    "model.fit(X_train_tfidf, y_train)\n",
    "\n",
    "y_pred = model.predict(X_test_tfidf)\n",
    "\n",
    "print(\"Classification Report:\\n\", classification_report(y_test, y_pred))\n",
    "print(\"Confusion Matrix:\\n\", confusion_matrix(y_test, y_pred))\n",
    "\n",
    "# 10. Confusion Matrix\n",
    "cm = confusion_matrix(y_test, y_pred)\n",
    "plt.figure(figsize=(6,4))\n",
    "sns.heatmap(cm, annot=True, fmt='d', xticklabels=['Original', 'Fake'], yticklabels=['Original', 'Fake'], cmap='Blues')\n",
    "plt.xlabel('Predicted')\n",
    "plt.ylabel('Actual')\n",
    "plt.title('Confusion Matrix for Logistic Regression')\n",
    "plt.show()\n",
    "\n"
   ]
  }
 ],
 "metadata": {
  "kernelspec": {
   "display_name": "Python 3",
   "language": "python",
   "name": "python3"
  },
  "language_info": {
   "codemirror_mode": {
    "name": "ipython",
    "version": 3
   },
   "file_extension": ".py",
   "mimetype": "text/x-python",
   "name": "python",
   "nbconvert_exporter": "python",
   "pygments_lexer": "ipython3",
   "version": "3.11.5"
  }
 },
 "nbformat": 4,
 "nbformat_minor": 5
}
