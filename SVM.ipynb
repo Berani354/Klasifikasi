{
 "cells": [
  {
   "cell_type": "code",
   "execution_count": 2,
   "id": "fdb4fc8e",
   "metadata": {},
   "outputs": [
    {
     "name": "stdout",
     "output_type": "stream",
     "text": [
      "Classification Report:\n",
      "               precision    recall  f1-score   support\n",
      "\n",
      "          OR       0.84      0.87      0.86       200\n",
      "          CG       0.87      0.84      0.85       200\n",
      "\n",
      "    accuracy                           0.85       400\n",
      "   macro avg       0.86      0.85      0.85       400\n",
      "weighted avg       0.86      0.85      0.85       400\n",
      "\n"
     ]
    },
    {
     "data": {
      "image/png": "[encoded data removed]",
      "text/plain": [
       "<Figure size 600x400 with 2 Axes>"
      ]
     },
     "metadata": {},
     "output_type": "display_data"
    },
    {
     "data": {
      "text/plain": [
       "['tfidf_vectorizer.pkl']"
      ]
     },
     "execution_count": 2,
     "metadata": {},
     "output_type": "execute_result"
    }
   ],
   "source": [
    "# 1. Import library\n",
    "import pandas as pd\n",
    "import numpy as np\n",
    "from sklearn.model_selection import train_test_split\n",
    "from sklearn.feature_extraction.text import TfidfVectorizer\n",
    "from sklearn.svm import LinearSVC\n",
    "from sklearn.metrics import classification_report, confusion_matrix\n",
    "from sklearn.preprocessing import LabelEncoder\n",
    "import matplotlib.pyplot as plt\n",
    "import seaborn as sns\n",
    "import joblib\n",
    "\n",
    "# 2. Load dataset\n",
    "df = pd.read_excel('review_2000_dataset.xlsx')\n",
    "\n",
    "# 3. Encode label (CG = 1, OR = 0)\n",
    "df['label'] = df['label'].map({'CG': 1, 'OR': 0})\n",
    "\n",
    "# 4. Preprocessing\n",
    "X = df['text']\n",
    "y = df['label']\n",
    "\n",
    "# 5. Split data\n",
    "X_train, X_test, y_train, y_test = train_test_split(\n",
    "    X, y, test_size=0.2, stratify=y, random_state=42\n",
    ")\n",
    "\n",
    "# 6. TF-IDF Vectorization\n",
    "vectorizer = TfidfVectorizer(max_features=5000)\n",
    "X_train_tfidf = vectorizer.fit_transform(X_train)\n",
    "X_test_tfidf = vectorizer.transform(X_test)\n",
    "\n",
    "# 7. Train SVM Model\n",
    "svm_model = LinearSVC()\n",
    "svm_model.fit(X_train_tfidf, y_train)\n",
    "\n",
    "# 8. Predict\n",
    "y_pred = svm_model.predict(X_test_tfidf)\n",
    "\n",
    "# 9. Evaluation\n",
    "print(\"Classification Report:\\n\", classification_report(y_test, y_pred, target_names=['OR', 'CG']))\n",
    "\n",
    "# 10. Confusion Matrix\n",
    "cm = confusion_matrix(y_test, y_pred)\n",
    "plt.figure(figsize=(6,4))\n",
    "sns.heatmap(cm, annot=True, fmt='d', xticklabels=['Original', 'Fake'], yticklabels=['Original', 'Fake'], cmap='Blues')\n",
    "plt.xlabel('Predicted')\n",
    "plt.ylabel('Actual')\n",
    "plt.title('Confusion Matrix for SVM')\n",
    "plt.show()\n",
    "\n",
    "# 11. Save model and vectorizer\n",
    "joblib.dump(svm_model, 'svm_model.pkl')\n",
    "joblib.dump(vectorizer, 'tfidf_vectorizer.pkl')\n"
   ]
  },
  {
   "cell_type": "code",
   "execution_count": 3,
   "id": "ab00709e",
   "metadata": {},
   "outputs": [
    {
     "data": {
      "text/plain": [
       "['tfidf_vectorizer.pkl']"
      ]
     },
     "execution_count": 3,
     "metadata": {},
     "output_type": "execute_result"
    }
   ],
   "source": [
    "# 11. Save model and vectorizer\n",
    "joblib.dump(svm_model, 'svm_model.pkl')\n",
    "joblib.dump(vectorizer, 'tfidf_vectorizer.pkl')"
   ]
  }
 ],
 "metadata": {
  "kernelspec": {
   "display_name": "Python 3",
   "language": "python",
   "name": "python3"
  },
  "language_info": {
   "codemirror_mode": {
    "name": "ipython",
    "version": 3
   },
   "file_extension": ".py",
   "mimetype": "text/x-python",
   "name": "python",
   "nbconvert_exporter": "python",
   "pygments_lexer": "ipython3",
   "version": "3.11.5"
  }
 },
 "nbformat": 4,
 "nbformat_minor": 5
}
